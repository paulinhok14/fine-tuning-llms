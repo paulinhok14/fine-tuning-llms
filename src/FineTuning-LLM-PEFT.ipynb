{
 "cells": [
  {
   "cell_type": "markdown",
   "id": "a372f32a",
   "metadata": {},
   "source": [
    "## Fine-tuning LLMs with HuggingFace, PEFT (LoRa/QLoRA)"
   ]
  },
  {
   "cell_type": "markdown",
   "id": "435aab8e",
   "metadata": {},
   "source": [
    "---"
   ]
  },
  {
   "cell_type": "markdown",
   "id": "cc886cae",
   "metadata": {},
   "source": [
    "### 0 - Setup"
   ]
  },
  {
   "cell_type": "code",
   "execution_count": 1,
   "id": "8f549fad",
   "metadata": {},
   "outputs": [],
   "source": [
    "# HuggingFace\n",
    "import transformers, peft\n",
    "from datasets import load_dataset\n",
    "from peft import LoraConfig, AutoPeftModelForCausalLM, prepare_model_for_kbit_training, get_peft_model\n",
    "from transformers import (\n",
    "    pipeline,\n",
    "    AutoModelForCausalLM,\n",
    "    AutoTokenizer,\n",
    "    BitsAndBytesConfig,\n",
    "    TrainingArguments,\n",
    "    DataCollatorForLanguageModeling,\n",
    ")\n",
    "from transformers.trainer_callback import TrainerCallback\n",
    "from transformers.integrations import MLflowCallback\n",
    "from trl import SFTTrainer\n",
    "import bitsandbytes as bnb\n",
    "from bitsandbytes.optim import AdamW8bit\n",
    "\n",
    "# Models/MLOps\n",
    "from ollama import chat\n",
    "import torch\n",
    "# import mlflow\n",
    "# import mlflow.transformers\n",
    "\n",
    "# System\n",
    "from dotenv import load_dotenv\n",
    "import os, sys, subprocess\n",
    "import gc # Garbage collector\n",
    "\n",
    "# Extras\n",
    "import accelerate\n",
    "from importlib.metadata import version\n",
    "import warnings\n",
    "from tqdm import tqdm # Progress bar\n",
    "warnings.filterwarnings('ignore', category=UserWarning)\n",
    "\n",
    "# Model and dataset configuration\n",
    "# model_name = \"meta-llama/Llama-2-7b-hf\"\n",
    "model_name = 'TinyLlama/TinyLlama-1.1B-Chat-v1.0' # More suitable for my GPU\n",
    "train_dataset_path = \"../data/training_dataset.jsonl\"\n",
    "output_model = '../models/TinyLlama-1.1b-Chat-FineTuned-v1.0'\n",
    "\n",
    "# Loading environment variables\n",
    "load_dotenv()\n",
    "HF_TOKEN = os.getenv('HUGGINGFACE_TOKEN')"
   ]
  },
  {
   "cell_type": "markdown",
   "id": "1625a4f7",
   "metadata": {},
   "source": [
    "Asserting that transformers and peft lib versions are compatible"
   ]
  },
  {
   "cell_type": "code",
   "execution_count": 24,
   "id": "63aedb61",
   "metadata": {},
   "outputs": [
    {
     "name": "stdout",
     "output_type": "stream",
     "text": [
      "transformers version: 4.52.4\n",
      "peft version: 0.15.2\n",
      "bitsandbytes version: 0.46.0\n",
      "trl version: 0.18.2\n",
      "accelerate version: 1.8.1\n",
      "PyTorch version: 2.2.1+cu121. - Must be a version with GPU (CUDA) support, not CPU only.\n"
     ]
    }
   ],
   "source": [
    "print('transformers version:', transformers.__version__)\n",
    "print('peft version:', peft.__version__)\n",
    "print('bitsandbytes version:', version('bitsandbytes'))\n",
    "print('trl version:', version('trl'))\n",
    "print('accelerate version:', accelerate.__version__)\n",
    "print(f\"PyTorch version: {torch.__version__}. - Must be a version with GPU (CUDA) support, not CPU only.\")\n",
    "\n",
    "# Asserting versions\n",
    "# assert transformers.__version__ == '4.40.2', 'transformers version mismatch'\n",
    "#assert peft.__version__ == '0.10.0', 'peft version mismatch'"
   ]
  },
  {
   "cell_type": "code",
   "execution_count": 3,
   "id": "a842ecb3",
   "metadata": {},
   "outputs": [
    {
     "name": "stdout",
     "output_type": "stream",
     "text": [
      "=== NVIDIA Driver Check ===\n",
      "Tue Jun 24 21:15:31 2025       \n",
      "+-----------------------------------------------------------------------------------------+\n",
      "| NVIDIA-SMI 576.57                 Driver Version: 576.57         CUDA Version: 12.9     |\n",
      "|-----------------------------------------+------------------------+----------------------+\n",
      "| GPU  Name                  Driver-Model | Bus-Id          Disp.A | Volatile Uncorr. ECC |\n",
      "| Fan  Temp   Perf          Pwr:Usage/Cap |           Memory-Usage | GPU-Util  Compute M. |\n",
      "|                                         |                        |               MIG M. |\n",
      "|=========================================+========================+======================|\n",
      "|   0  NVIDIA GeForce GTX 1050      WDDM  |   00000000:01:00.0 Off |                  N/A |\n",
      "| N/A   42C    P8            N/A  / 5001W |       0MiB /   4096MiB |      1%      Default |\n",
      "|                                         |                        |                  N/A |\n",
      "+-----------------------------------------+------------------------+----------------------+\n",
      "                                                                                         \n",
      "+-----------------------------------------------------------------------------------------+\n",
      "| Processes:                                                                              |\n",
      "|  GPU   GI   CI              PID   Type   Process name                        GPU Memory |\n",
      "|        ID   ID                                                               Usage      |\n",
      "|=========================================================================================|\n",
      "|  No running processes found                                                             |\n",
      "+-----------------------------------------------------------------------------------------+\n",
      "\n"
     ]
    }
   ],
   "source": [
    "def check_nvidia_smi():\n",
    "    try:\n",
    "        result = subprocess.run(['nvidia-smi'], capture_output=True, text=True)\n",
    "        return result.stdout\n",
    "    except FileNotFoundError:\n",
    "        return \"nvidia-smi not found. NVIDIA drivers may not be installed.\"\n",
    "\n",
    "print(\"=== NVIDIA Driver Check ===\")\n",
    "print(check_nvidia_smi())"
   ]
  },
  {
   "cell_type": "code",
   "execution_count": 4,
   "id": "5aac66ed",
   "metadata": {},
   "outputs": [
    {
     "name": "stdout",
     "output_type": "stream",
     "text": [
      "GPU Memory: 4.3 GB\n",
      "Max memory for model: {0: '3.7 GB'}\n"
     ]
    }
   ],
   "source": [
    "# Get GPU memory info\n",
    "gpu_memory = torch.cuda.get_device_properties(0).total_memory\n",
    "max_memory = {0: f\"{gpu_memory * 0.85 / 1e9:.1f} GB\"}  # Use 85% of GPU memory\n",
    "\n",
    "print(f\"GPU Memory: {gpu_memory / 1e9:.1f} GB\")\n",
    "print(f\"Max memory for model: {max_memory}\")"
   ]
  },
  {
   "cell_type": "markdown",
   "id": "a96bc41f",
   "metadata": {},
   "source": [
    "CUDA Availability Check"
   ]
  },
  {
   "cell_type": "code",
   "execution_count": 5,
   "id": "5e540a97",
   "metadata": {},
   "outputs": [
    {
     "name": "stdout",
     "output_type": "stream",
     "text": [
      "CUDA Available: True\n",
      "Current CUDA device: 0\n",
      "CUDA version: 12.1\n",
      "CUDA device: NVIDIA GeForce GTX 1050\n",
      "CUDA capability: (6, 1)\n"
     ]
    }
   ],
   "source": [
    "# Check CUDA availability\n",
    "use_gpu = torch.cuda.is_available()\n",
    "print('CUDA Available:', use_gpu)\n",
    "print('Current CUDA device:', torch.cuda.current_device() if use_gpu else 'No CUDA device')\n",
    "print('CUDA version:', torch.version.cuda if use_gpu else 'Not Available')\n",
    "\n",
    "if use_gpu:\n",
    "    print(f'CUDA device: {torch.cuda.get_device_name(0)}')\n",
    "    print(f'CUDA capability:', torch.cuda.get_device_capability(0))"
   ]
  },
  {
   "cell_type": "markdown",
   "id": "e393afd6",
   "metadata": {},
   "source": [
    "#### Releasing GPU Memory"
   ]
  },
  {
   "cell_type": "code",
   "execution_count": 21,
   "id": "e2788c58",
   "metadata": {},
   "outputs": [
    {
     "name": "stdout",
     "output_type": "stream",
     "text": [
      "Bytes collected:\n"
     ]
    },
    {
     "data": {
      "text/plain": [
       "3091"
      ]
     },
     "execution_count": 21,
     "metadata": {},
     "output_type": "execute_result"
    }
   ],
   "source": [
    "torch.cuda.empty_cache()\n",
    "print('Bytes collected:')\n",
    "gc.collect()"
   ]
  },
  {
   "cell_type": "markdown",
   "id": "97bf04b8",
   "metadata": {},
   "source": [
    "---"
   ]
  },
  {
   "cell_type": "markdown",
   "id": "39ea8b22",
   "metadata": {},
   "source": [
    "### 1- Loading Train Data"
   ]
  },
  {
   "cell_type": "code",
   "execution_count": 7,
   "id": "5c467ee3",
   "metadata": {},
   "outputs": [],
   "source": [
    "# Training data for Fine-Tuning\n",
    "dataset = load_dataset(\"json\", data_files=train_dataset_path, split=\"train\")\n",
    "\n",
    "\n",
    "# Formatting the dataset for training\n",
    "def formatting(example):\n",
    "    text = f\"### Prompt:\\n{example['prompt']}\\n\\n### Response:\\n{example['response']}\"\n",
    "    return {\"text\": text}\n",
    "\n",
    "dataset = dataset.map(formatting)"
   ]
  },
  {
   "cell_type": "markdown",
   "id": "0c1410dd",
   "metadata": {},
   "source": [
    "### 1.1- Loading Tokenizer and transforming Train Data"
   ]
  },
  {
   "cell_type": "code",
   "execution_count": 8,
   "id": "ea393c36",
   "metadata": {},
   "outputs": [],
   "source": [
    "# Tokenizer\n",
    "tokenizer = AutoTokenizer.from_pretrained(model_name, trust_remote_code=True)\n",
    "tokenizer.pad_token = tokenizer.eos_token\n",
    "\n",
    "# Tokenizing formatted dataset\n",
    "def preprocess(examples):\n",
    "    # Tokenize the texts with padding and truncation\n",
    "    tokenized = tokenizer(\n",
    "        examples[\"text\"],\n",
    "        truncation=True,\n",
    "        padding=True,\n",
    "        max_length=512,\n",
    "        return_tensors=None  # Return lists instead of tensors\n",
    "    )\n",
    "    \n",
    "    # Set up the labels for training\n",
    "    tokenized[\"labels\"] = tokenized[\"input_ids\"].copy()\n",
    "    \n",
    "    return tokenized\n",
    "\n",
    "# Apply preprocessing to the entire dataset at once\n",
    "tokenized_dataset = dataset.map(\n",
    "    preprocess,\n",
    "    batched=True,\n",
    "    remove_columns=dataset.column_names\n",
    ")"
   ]
  },
  {
   "cell_type": "markdown",
   "id": "0a5eae44",
   "metadata": {},
   "source": [
    "---"
   ]
  },
  {
   "cell_type": "markdown",
   "id": "4bcf2a43",
   "metadata": {},
   "source": [
    "### 2- Loading and Configuring Model"
   ]
  },
  {
   "cell_type": "code",
   "execution_count": 9,
   "id": "15824c53",
   "metadata": {},
   "outputs": [],
   "source": [
    "# Configure 8-bit quantization for efficient GPU usage\n",
    "bnb_config = BitsAndBytesConfig(\n",
    "    load_in_8bit=True,  # Enable 8-bit quantization\n",
    "    llm_int8_threshold=6.0,  # Threshold for outlier detection\n",
    "    llm_int8_has_fp16_weight=False,  # Disabling fp16 for weights to avoid dtype mismatch\n",
    "    llm_int8_enable_fp32_cpu_offload=True  # Offload to CPU\n",
    ")\n",
    "\n",
    "# Load Model with quantization\n",
    "model = AutoModelForCausalLM.from_pretrained(\n",
    "    model_name,\n",
    "    quantization_config=bnb_config,\n",
    "    trust_remote_code=True,\n",
    "    use_cache=False,  # Important for training\n",
    "    device_map=\"auto\",  # Let accelerate handle device mapping\n",
    "    torch_dtype=torch.float32  # Use float32 as base dtype\n",
    ")"
   ]
  },
  {
   "cell_type": "markdown",
   "id": "9f5090fe",
   "metadata": {},
   "source": [
    "---"
   ]
  },
  {
   "cell_type": "markdown",
   "id": "00a5c443",
   "metadata": {},
   "source": [
    "### 3- Preparing for PEFT - Applying LoRA/QLoRA"
   ]
  },
  {
   "cell_type": "code",
   "execution_count": 10,
   "id": "3e33878d",
   "metadata": {},
   "outputs": [],
   "source": [
    "# Prepare for PEFT\n",
    "model.gradient_checkpointing_enable()\n",
    "model = prepare_model_for_kbit_training(model)\n",
    "\n",
    "# LoRA Config\n",
    "lora_config = LoraConfig(\n",
    "    r=8, # Rank of the LoRA matrix, the number of trainable parameters (the higher the more trainable parameters, but also more memory and computation)\n",
    "    lora_alpha=32, # Scaling factor for the LoRA matrix\n",
    "    target_modules=[\"q_proj\", \"v_proj\"], # Query and Value projection layers for TinyLlama\n",
    "    lora_dropout=0.05, # Dropout rate for the LoRA matrix\n",
    "    bias=\"none\", # Bias for the LoRA matrix (not used for TinyLlama)\n",
    "    task_type=\"CAUSAL_LM\" # Task type for the LoRA matrix\n",
    ")\n",
    "\n",
    "model = get_peft_model(model, lora_config)"
   ]
  },
  {
   "cell_type": "markdown",
   "id": "59db8d3f",
   "metadata": {},
   "source": [
    "### Trainable Parameters Overview"
   ]
  },
  {
   "cell_type": "code",
   "execution_count": 11,
   "id": "3b2d32f5",
   "metadata": {},
   "outputs": [
    {
     "name": "stdout",
     "output_type": "stream",
     "text": [
      "trainable params: 1,126,400 || all params: 1,101,174,784 || trainable%: 0.1023\n",
      "None\n"
     ]
    }
   ],
   "source": [
    "print(model.print_trainable_parameters())"
   ]
  },
  {
   "cell_type": "markdown",
   "id": "2f4661d1",
   "metadata": {},
   "source": [
    "---"
   ]
  },
  {
   "cell_type": "markdown",
   "id": "77a61c77",
   "metadata": {},
   "source": [
    "### 4- Data Collator"
   ]
  },
  {
   "cell_type": "markdown",
   "id": "910ab558",
   "metadata": {},
   "source": [
    "A data collator is a crucial component in the training pipeline that prepares batches of data for the model. \n",
    "In this case, we're using DataCollatorForLanguageModeling which:\n",
    "1. Pads sequences to the same length within each batch\n",
    "2. Creates attention masks to handle the padding\n",
    "3. Prepares the labels for language modeling\n",
    "\n",
    "The mlm=False parameter indicates we're doing causal language modeling (predicting next token) \n",
    "rather than masked language modeling (predicting masked tokens).\n",
    "\n",
    "This collator is necessary because:\n",
    "- It ensures all sequences in a batch have the same length through padding\n",
    "- It properly formats the input for the model's forward pass\n",
    "- It handles the creation of labels for the language modeling task\n",
    "- It optimizes memory usage by padding only within each batch rather than to a fixed length -->\n"
   ]
  },
  {
   "cell_type": "code",
   "execution_count": 12,
   "id": "424711c6",
   "metadata": {},
   "outputs": [],
   "source": [
    "data_collator = DataCollatorForLanguageModeling(tokenizer, \n",
    "                                                mlm=False) # As we are working with Causal Language Modeling (predicting next token), not MLM (Masked Language Modeling)"
   ]
  },
  {
   "cell_type": "markdown",
   "id": "d9d0d6df",
   "metadata": {},
   "source": [
    "---"
   ]
  },
  {
   "cell_type": "markdown",
   "id": "916420f4",
   "metadata": {},
   "source": [
    "### 5- Configure Training Arguments"
   ]
  },
  {
   "cell_type": "markdown",
   "id": "20af8e32",
   "metadata": {},
   "source": [
    "I'll  avoid Trainer, its returning error when trying to train():\n",
    "\n",
    "\"The safest path on your setup is to avoid Trainer and instead train using a custom training loop with Accelerate, which gives you more control and avoids hidden offloading. Sometimes Hugging Face's Trainer tries to offload to CPU automatically if it detects low VRAM.\""
   ]
  },
  {
   "cell_type": "code",
   "execution_count": 22,
   "id": "61adce46",
   "metadata": {},
   "outputs": [
    {
     "name": "stderr",
     "output_type": "stream",
     "text": [
      "No label_names provided for model class `PeftModelForCausalLM`. Since `PeftModel` hides base models input arguments, if label_names is not given, label_names can't be set automatically within `Trainer`. Note that empty label_names list will be used instead.\n"
     ]
    }
   ],
   "source": [
    "# Training Arguments - Optimized for GTX 1050 4GB VRAM with TinyLlama 1.1B + LoRA\n",
    "training_args = TrainingArguments(\n",
    "    output_dir=output_model,\n",
    "    per_device_train_batch_size=1,  # Keep small batch size for 4GB VRAM\n",
    "    gradient_accumulation_steps=16,  # Maintain effective batch size\n",
    "    optim=\"adamw_8bit\",  # Switching from Adamw_32bit to 8-bit optimizer from BitsAndBytes\n",
    "    learning_rate=2e-4,\n",
    "    lr_scheduler_type=\"cosine\",\n",
    "    save_strategy=\"epoch\",\n",
    "    logging_steps=20,\n",
    "    num_train_epochs=3,\n",
    "    max_steps=160,\n",
    "    bf16=False,  # Disable bf16 since we're using fp16\n",
    "    fp16=True,  # Use fp16 for training\n",
    "    torch_compile=False,  # Disable torch compilation\n",
    "    gradient_checkpointing=True,\n",
    "    warmup_steps=50,\n",
    "    max_grad_norm=0.3,\n",
    "    ddp_find_unused_parameters=False,\n",
    "    dataloader_num_workers=0,       # For pre-loading batches in background\n",
    "    remove_unused_columns=False,\n",
    "    group_by_length=True,  # Group similar length sequences for efficiency\n",
    "    # report_to=\"mlflow\"  # MLFlow reporting\n",
    ")\n",
    "\n",
    "# Trainer\n",
    "trainer = SFTTrainer(\n",
    "    model=model,\n",
    "    train_dataset=tokenized_dataset,\n",
    "    peft_config=lora_config,\n",
    "    args=training_args,\n",
    "    data_collator=data_collator,\n",
    "    callbacks=[\n",
    "        # MLflowCallback()\n",
    "    ]\n",
    ")"
   ]
  },
  {
   "cell_type": "markdown",
   "id": "6e716bc3",
   "metadata": {},
   "source": [
    "---"
   ]
  },
  {
   "cell_type": "markdown",
   "id": "bb4955b5",
   "metadata": {},
   "source": [
    "### 6 - Training"
   ]
  },
  {
   "cell_type": "code",
   "execution_count": 23,
   "id": "9e805ed7",
   "metadata": {},
   "outputs": [
    {
     "data": {
      "text/html": [
       "\n",
       "    <div>\n",
       "      \n",
       "      <progress value='160' max='160' style='width:300px; height:20px; vertical-align: middle;'></progress>\n",
       "      [160/160 18:33, Epoch 160/160]\n",
       "    </div>\n",
       "    <table border=\"1\" class=\"dataframe\">\n",
       "  <thead>\n",
       " <tr style=\"text-align: left;\">\n",
       "      <th>Step</th>\n",
       "      <th>Training Loss</th>\n",
       "    </tr>\n",
       "  </thead>\n",
       "  <tbody>\n",
       "    <tr>\n",
       "      <td>20</td>\n",
       "      <td>0.249100</td>\n",
       "    </tr>\n",
       "    <tr>\n",
       "      <td>40</td>\n",
       "      <td>0.058300</td>\n",
       "    </tr>\n",
       "    <tr>\n",
       "      <td>60</td>\n",
       "      <td>0.046400</td>\n",
       "    </tr>\n",
       "    <tr>\n",
       "      <td>80</td>\n",
       "      <td>0.043100</td>\n",
       "    </tr>\n",
       "    <tr>\n",
       "      <td>100</td>\n",
       "      <td>0.042700</td>\n",
       "    </tr>\n",
       "    <tr>\n",
       "      <td>120</td>\n",
       "      <td>0.041900</td>\n",
       "    </tr>\n",
       "    <tr>\n",
       "      <td>140</td>\n",
       "      <td>0.041200</td>\n",
       "    </tr>\n",
       "    <tr>\n",
       "      <td>160</td>\n",
       "      <td>0.041700</td>\n",
       "    </tr>\n",
       "  </tbody>\n",
       "</table><p>"
      ],
      "text/plain": [
       "<IPython.core.display.HTML object>"
      ]
     },
     "metadata": {},
     "output_type": "display_data"
    },
    {
     "data": {
      "text/plain": [
       "TrainOutput(global_step=160, training_loss=0.07055153772234916, metrics={'train_runtime': 1122.2936, 'train_samples_per_second': 2.281, 'train_steps_per_second': 0.143, 'total_flos': 163050970152960.0, 'train_loss': 0.07055153772234916})"
      ]
     },
     "execution_count": 23,
     "metadata": {},
     "output_type": "execute_result"
    }
   ],
   "source": [
    "# Monitoring with MLFlow    \n",
    "# with mlflow.start_run():\n",
    "trainer.train()"
   ]
  },
  {
   "cell_type": "markdown",
   "id": "b62ffc25",
   "metadata": {},
   "source": [
    "---"
   ]
  },
  {
   "cell_type": "markdown",
   "id": "3bc1dde8",
   "metadata": {},
   "source": [
    "### 7- Merging with Base Model"
   ]
  },
  {
   "cell_type": "code",
   "execution_count": null,
   "id": "8c397ab2",
   "metadata": {},
   "outputs": [],
   "source": [
    "# Loading model + LORA\n",
    "peft_model = AutoPeftModelForCausalLM.from_pretrained(model_name, \n",
    "                                                      device_map=\"auto\","
   ]
  },
  {
   "cell_type": "markdown",
   "id": "c834022e",
   "metadata": {},
   "source": [
    "### 8- Saving Fine-Tuned LLM"
   ]
  }
 ],
 "metadata": {
  "kernelspec": {
   "display_name": "venv",
   "language": "python",
   "name": "python3"
  },
  "language_info": {
   "codemirror_mode": {
    "name": "ipython",
    "version": 3
   },
   "file_extension": ".py",
   "mimetype": "text/x-python",
   "name": "python",
   "nbconvert_exporter": "python",
   "pygments_lexer": "ipython3",
   "version": "3.12.3"
  }
 },
 "nbformat": 4,
 "nbformat_minor": 5
}
