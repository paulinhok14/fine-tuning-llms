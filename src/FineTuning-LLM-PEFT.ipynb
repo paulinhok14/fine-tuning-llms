{
 "cells": [
  {
   "cell_type": "markdown",
   "id": "a372f32a",
   "metadata": {},
   "source": [
    "## Fine-tuning LLMs with HuggingFace, PEFT (LoRa/QLoRA)"
   ]
  },
  {
   "cell_type": "markdown",
   "id": "435aab8e",
   "metadata": {},
   "source": [
    "---"
   ]
  },
  {
   "cell_type": "markdown",
   "id": "f152af7d",
   "metadata": {},
   "source": [
    "<svg aria-roledescription=\"flowchart-v2\" role=\"graphics-document document\" viewBox=\"-8 -8 177.171875 470\" style=\"max-width: 177.171875px;\" xmlns=\"http://www.w3.org/2000/svg\" width=\"100%\" id=\"mermaid-svg-1750124783912-t0ns9iegq\"><style>#mermaid-svg-1750124783912-t0ns9iegq{font-family:\"trebuchet ms\",verdana,arial,sans-serif;font-size:16px;fill:#f8f8f2;}#mermaid-svg-1750124783912-t0ns9iegq .error-icon{fill:#5a1d1d;}#mermaid-svg-1750124783912-t0ns9iegq .error-text{fill:#ff5555;stroke:#ff5555;}#mermaid-svg-1750124783912-t0ns9iegq .edge-thickness-normal{stroke-width:2px;}#mermaid-svg-1750124783912-t0ns9iegq .edge-thickness-thick{stroke-width:3.5px;}#mermaid-svg-1750124783912-t0ns9iegq .edge-pattern-solid{stroke-dasharray:0;}#mermaid-svg-1750124783912-t0ns9iegq .edge-pattern-dashed{stroke-dasharray:3;}#mermaid-svg-1750124783912-t0ns9iegq .edge-pattern-dotted{stroke-dasharray:2;}#mermaid-svg-1750124783912-t0ns9iegq .marker{fill:#f8f8f2;stroke:#f8f8f2;}#mermaid-svg-1750124783912-t0ns9iegq .marker.cross{stroke:#f8f8f2;}#mermaid-svg-1750124783912-t0ns9iegq svg{font-family:\"trebuchet ms\",verdana,arial,sans-serif;font-size:16px;}#mermaid-svg-1750124783912-t0ns9iegq .label{font-family:\"trebuchet ms\",verdana,arial,sans-serif;color:#f8f8f2;}#mermaid-svg-1750124783912-t0ns9iegq .cluster-label text{fill:#f8f8f2;}#mermaid-svg-1750124783912-t0ns9iegq .cluster-label span,#mermaid-svg-1750124783912-t0ns9iegq p{color:#f8f8f2;}#mermaid-svg-1750124783912-t0ns9iegq .label text,#mermaid-svg-1750124783912-t0ns9iegq span,#mermaid-svg-1750124783912-t0ns9iegq p{fill:#f8f8f2;color:#f8f8f2;}#mermaid-svg-1750124783912-t0ns9iegq .node rect,#mermaid-svg-1750124783912-t0ns9iegq .node circle,#mermaid-svg-1750124783912-t0ns9iegq .node ellipse,#mermaid-svg-1750124783912-t0ns9iegq .node polygon,#mermaid-svg-1750124783912-t0ns9iegq .node path{fill:#282a36;stroke:#191a21;stroke-width:1px;}#mermaid-svg-1750124783912-t0ns9iegq .flowchart-label text{text-anchor:middle;}#mermaid-svg-1750124783912-t0ns9iegq .node .label{text-align:center;}#mermaid-svg-1750124783912-t0ns9iegq .node.clickable{cursor:pointer;}#mermaid-svg-1750124783912-t0ns9iegq .arrowheadPath{fill:#d7d5c9;}#mermaid-svg-1750124783912-t0ns9iegq .edgePath .path{stroke:#f8f8f2;stroke-width:2.0px;}#mermaid-svg-1750124783912-t0ns9iegq .flowchart-link{stroke:#f8f8f2;fill:none;}#mermaid-svg-1750124783912-t0ns9iegq .edgeLabel{background-color:#282a3699;text-align:center;}#mermaid-svg-1750124783912-t0ns9iegq .edgeLabel rect{opacity:0.5;background-color:#282a3699;fill:#282a3699;}#mermaid-svg-1750124783912-t0ns9iegq .labelBkg{background-color:rgba(40, 42, 54, 0.5);}#mermaid-svg-1750124783912-t0ns9iegq .cluster rect{fill:rgba(68, 71, 90, 0.5);stroke:#6272a4;stroke-width:1px;}#mermaid-svg-1750124783912-t0ns9iegq .cluster text{fill:#f8f8f2;}#mermaid-svg-1750124783912-t0ns9iegq .cluster span,#mermaid-svg-1750124783912-t0ns9iegq p{color:#f8f8f2;}#mermaid-svg-1750124783912-t0ns9iegq div.mermaidTooltip{position:absolute;text-align:center;max-width:200px;padding:2px;font-family:\"trebuchet ms\",verdana,arial,sans-serif;font-size:12px;background:#44475a;border:1px solid #6272a4;border-radius:2px;pointer-events:none;z-index:100;}#mermaid-svg-1750124783912-t0ns9iegq .flowchartTitleText{text-anchor:middle;font-size:18px;fill:#f8f8f2;}#mermaid-svg-1750124783912-t0ns9iegq :root{--mermaid-font-family:\"trebuchet ms\",verdana,arial,sans-serif;}</style><g><marker orient=\"auto\" markerHeight=\"12\" markerWidth=\"12\" markerUnits=\"userSpaceOnUse\" refY=\"5\" refX=\"6\" viewBox=\"0 0 10 10\" class=\"marker flowchart\" id=\"mermaid-svg-1750124783912-t0ns9iegq_flowchart-pointEnd\"><path style=\"stroke-width: 1; stroke-dasharray: 1, 0;\" class=\"arrowMarkerPath\" d=\"M 0 0 L 10 5 L 0 10 z\"/></marker><marker orient=\"auto\" markerHeight=\"12\" markerWidth=\"12\" markerUnits=\"userSpaceOnUse\" refY=\"5\" refX=\"4.5\" viewBox=\"0 0 10 10\" class=\"marker flowchart\" id=\"mermaid-svg-1750124783912-t0ns9iegq_flowchart-pointStart\"><path style=\"stroke-width: 1; stroke-dasharray: 1, 0;\" class=\"arrowMarkerPath\" d=\"M 0 5 L 10 10 L 10 0 z\"/></marker><marker orient=\"auto\" markerHeight=\"11\" markerWidth=\"11\" markerUnits=\"userSpaceOnUse\" refY=\"5\" refX=\"11\" viewBox=\"0 0 10 10\" class=\"marker flowchart\" id=\"mermaid-svg-1750124783912-t0ns9iegq_flowchart-circleEnd\"><circle style=\"stroke-width: 1; stroke-dasharray: 1, 0;\" class=\"arrowMarkerPath\" r=\"5\" cy=\"5\" cx=\"5\"/></marker><marker orient=\"auto\" markerHeight=\"11\" markerWidth=\"11\" markerUnits=\"userSpaceOnUse\" refY=\"5\" refX=\"-1\" viewBox=\"0 0 10 10\" class=\"marker flowchart\" id=\"mermaid-svg-1750124783912-t0ns9iegq_flowchart-circleStart\"><circle style=\"stroke-width: 1; stroke-dasharray: 1, 0;\" class=\"arrowMarkerPath\" r=\"5\" cy=\"5\" cx=\"5\"/></marker><marker orient=\"auto\" markerHeight=\"11\" markerWidth=\"11\" markerUnits=\"userSpaceOnUse\" refY=\"5.2\" refX=\"12\" viewBox=\"0 0 11 11\" class=\"marker cross flowchart\" id=\"mermaid-svg-1750124783912-t0ns9iegq_flowchart-crossEnd\"><path style=\"stroke-width: 2; stroke-dasharray: 1, 0;\" class=\"arrowMarkerPath\" d=\"M 1,1 l 9,9 M 10,1 l -9,9\"/></marker><marker orient=\"auto\" markerHeight=\"11\" markerWidth=\"11\" markerUnits=\"userSpaceOnUse\" refY=\"5.2\" refX=\"-1\" viewBox=\"0 0 11 11\" class=\"marker cross flowchart\" id=\"mermaid-svg-1750124783912-t0ns9iegq_flowchart-crossStart\"><path style=\"stroke-width: 2; stroke-dasharray: 1, 0;\" class=\"arrowMarkerPath\" d=\"M 1,1 l 9,9 M 10,1 l -9,9\"/></marker><g class=\"root\"><g class=\"clusters\"/><g class=\"edgePaths\"><path marker-end=\"url(#mermaid-svg-1750124783912-t0ns9iegq_flowchart-pointEnd)\" style=\"fill:none;\" class=\"edge-thickness-normal edge-pattern-solid flowchart-link LS-A LE-B\" id=\"L-A-B-0\" d=\"M80.586,34L80.586,38.167C80.586,42.333,80.586,50.667,80.586,58.117C80.586,65.567,80.586,72.133,80.586,75.417L80.586,78.7\"/><path marker-end=\"url(#mermaid-svg-1750124783912-t0ns9iegq_flowchart-pointEnd)\" style=\"fill:none;\" class=\"edge-thickness-normal edge-pattern-solid flowchart-link LS-B LE-C\" id=\"L-B-C-0\" d=\"M80.586,118L80.586,122.167C80.586,126.333,80.586,134.667,80.586,142.117C80.586,149.567,80.586,156.133,80.586,159.417L80.586,162.7\"/><path marker-end=\"url(#mermaid-svg-1750124783912-t0ns9iegq_flowchart-pointEnd)\" style=\"fill:none;\" class=\"edge-thickness-normal edge-pattern-solid flowchart-link LS-C LE-D\" id=\"L-C-D-0\" d=\"M80.586,202L80.586,206.167C80.586,210.333,80.586,218.667,80.586,226.117C80.586,233.567,80.586,240.133,80.586,243.417L80.586,246.7\"/><path marker-end=\"url(#mermaid-svg-1750124783912-t0ns9iegq_flowchart-pointEnd)\" style=\"fill:none;\" class=\"edge-thickness-normal edge-pattern-solid flowchart-link LS-D LE-E\" id=\"L-D-E-0\" d=\"M80.586,286L80.586,290.167C80.586,294.333,80.586,302.667,80.586,310.117C80.586,317.567,80.586,324.133,80.586,327.417L80.586,330.7\"/><path marker-end=\"url(#mermaid-svg-1750124783912-t0ns9iegq_flowchart-pointEnd)\" style=\"fill:none;\" class=\"edge-thickness-normal edge-pattern-solid flowchart-link LS-E LE-F\" id=\"L-E-F-0\" d=\"M80.586,370L80.586,374.167C80.586,378.333,80.586,386.667,80.586,394.117C80.586,401.567,80.586,408.133,80.586,411.417L80.586,414.7\"/></g><g class=\"edgeLabels\"><g class=\"edgeLabel\"><g transform=\"translate(0, 0)\" class=\"label\"><foreignObject height=\"0\" width=\"0\"><div style=\"display: inline-block; white-space: nowrap;\" xmlns=\"http://www.w3.org/1999/xhtml\"><span class=\"edgeLabel\"></span></div></foreignObject></g></g><g class=\"edgeLabel\"><g transform=\"translate(0, 0)\" class=\"label\"><foreignObject height=\"0\" width=\"0\"><div style=\"display: inline-block; white-space: nowrap;\" xmlns=\"http://www.w3.org/1999/xhtml\"><span class=\"edgeLabel\"></span></div></foreignObject></g></g><g class=\"edgeLabel\"><g transform=\"translate(0, 0)\" class=\"label\"><foreignObject height=\"0\" width=\"0\"><div style=\"display: inline-block; white-space: nowrap;\" xmlns=\"http://www.w3.org/1999/xhtml\"><span class=\"edgeLabel\"></span></div></foreignObject></g></g><g class=\"edgeLabel\"><g transform=\"translate(0, 0)\" class=\"label\"><foreignObject height=\"0\" width=\"0\"><div style=\"display: inline-block; white-space: nowrap;\" xmlns=\"http://www.w3.org/1999/xhtml\"><span class=\"edgeLabel\"></span></div></foreignObject></g></g><g class=\"edgeLabel\"><g transform=\"translate(0, 0)\" class=\"label\"><foreignObject height=\"0\" width=\"0\"><div style=\"display: inline-block; white-space: nowrap;\" xmlns=\"http://www.w3.org/1999/xhtml\"><span class=\"edgeLabel\"></span></div></foreignObject></g></g></g><g class=\"nodes\"><g transform=\"translate(80.5859375, 17)\" id=\"flowchart-A-32\" class=\"node default default flowchart-label\"><rect height=\"34\" width=\"118.140625\" y=\"-17\" x=\"-59.0703125\" ry=\"0\" rx=\"0\" style=\"fill:#f9f;stroke:#333;stroke-width:2px;\" class=\"basic label-container\"/><g transform=\"translate(-51.5703125, -9.5)\" style=\"\" class=\"label\"><rect/><foreignObject height=\"19\" width=\"103.140625\"><div style=\"display: inline-block; white-space: nowrap;\" xmlns=\"http://www.w3.org/1999/xhtml\"><span class=\"nodeLabel\">Original Model</span></div></foreignObject></g></g><g transform=\"translate(80.5859375, 101)\" id=\"flowchart-B-33\" class=\"node default default flowchart-label\"><rect height=\"34\" width=\"145.75\" y=\"-17\" x=\"-72.875\" ry=\"0\" rx=\"0\" style=\"fill:#bbf;stroke:#333;stroke-width:2px;\" class=\"basic label-container\"/><g transform=\"translate(-65.375, -9.5)\" style=\"\" class=\"label\"><rect/><foreignObject height=\"19\" width=\"130.75\"><div style=\"display: inline-block; white-space: nowrap;\" xmlns=\"http://www.w3.org/1999/xhtml\"><span class=\"nodeLabel\">8-bit Quantization</span></div></foreignObject></g></g><g transform=\"translate(80.5859375, 185)\" id=\"flowchart-C-35\" class=\"node default default flowchart-label\"><rect height=\"34\" width=\"161.171875\" y=\"-17\" x=\"-80.5859375\" ry=\"0\" rx=\"0\" style=\"fill:#bbf;stroke:#333;stroke-width:2px;\" class=\"basic label-container\"/><g transform=\"translate(-73.0859375, -9.5)\" style=\"\" class=\"label\"><rect/><foreignObject height=\"19\" width=\"146.171875\"><div style=\"display: inline-block; white-space: nowrap;\" xmlns=\"http://www.w3.org/1999/xhtml\"><span class=\"nodeLabel\">Double Quantization</span></div></foreignObject></g></g><g transform=\"translate(80.5859375, 269)\" id=\"flowchart-D-37\" class=\"node default default flowchart-label\"><rect height=\"34\" width=\"98.0625\" y=\"-17\" x=\"-49.03125\" ry=\"0\" rx=\"0\" style=\"fill:#bbf;stroke:#333;stroke-width:2px;\" class=\"basic label-container\"/><g transform=\"translate(-41.53125, -9.5)\" style=\"\" class=\"label\"><rect/><foreignObject height=\"19\" width=\"83.0625\"><div style=\"display: inline-block; white-space: nowrap;\" xmlns=\"http://www.w3.org/1999/xhtml\"><span class=\"nodeLabel\">NF8 Format</span></div></foreignObject></g></g><g transform=\"translate(80.5859375, 353)\" id=\"flowchart-E-39\" class=\"node default default flowchart-label\"><rect height=\"34\" width=\"94.015625\" y=\"-17\" x=\"-47.0078125\" ry=\"0\" rx=\"0\" style=\"fill:#bfb;stroke:#333;stroke-width:2px;\" class=\"basic label-container\"/><g transform=\"translate(-39.5078125, -9.5)\" style=\"\" class=\"label\"><rect/><foreignObject height=\"19\" width=\"79.015625\"><div style=\"display: inline-block; white-space: nowrap;\" xmlns=\"http://www.w3.org/1999/xhtml\"><span class=\"nodeLabel\">PEFT/LoRA</span></div></foreignObject></g></g><g transform=\"translate(80.5859375, 437)\" id=\"flowchart-F-41\" class=\"node default default flowchart-label\"><rect height=\"34\" width=\"139.890625\" y=\"-17\" x=\"-69.9453125\" ry=\"0\" rx=\"0\" style=\"fill:#f9f;stroke:#333;stroke-width:2px;\" class=\"basic label-container\"/><g transform=\"translate(-62.4453125, -9.5)\" style=\"\" class=\"label\"><rect/><foreignObject height=\"19\" width=\"124.890625\"><div style=\"display: inline-block; white-space: nowrap;\" xmlns=\"http://www.w3.org/1999/xhtml\"><span class=\"nodeLabel\">Fine-tuned Model</span></div></foreignObject></g></g></g></g></g></svg>"
   ]
  },
  {
   "cell_type": "markdown",
   "id": "cc886cae",
   "metadata": {},
   "source": [
    "### 0 - Setup"
   ]
  },
  {
   "cell_type": "code",
   "execution_count": 1,
   "id": "8f549fad",
   "metadata": {},
   "outputs": [],
   "source": [
    "# HuggingFace\n",
    "import transformers, peft\n",
    "from datasets import load_dataset\n",
    "from peft import LoraConfig, AutoPeftModelForCausalLM, prepare_model_for_kbit_training, get_peft_model\n",
    "from transformers import (\n",
    "    AutoModelForCausalLM,\n",
    "    AutoTokenizer,\n",
    "    BitsAndBytesConfig,\n",
    "    TrainingArguments,\n",
    "    DataCollatorForLanguageModeling\n",
    ")\n",
    "from trl import SFTTrainer\n",
    "import bitsandbytes as bnb\n",
    "\n",
    "# Models/ML\n",
    "from ollama import chat\n",
    "import torch\n",
    "\n",
    "# System\n",
    "from dotenv import load_dotenv\n",
    "import os, sys, subprocess\n",
    "import gc # Garbage collector\n",
    "\n",
    "# Extras\n",
    "import accelerate\n",
    "from importlib.metadata import version\n",
    "import warnings\n",
    "from tqdm import tqdm # Progress bar\n",
    "# warnings.filterwarnings('ignore')\n",
    "\n",
    "# Model and dataset configuration\n",
    "# model_name = \"meta-llama/Llama-2-7b-hf\"\n",
    "model_name = 'TinyLlama/TinyLlama-1.1B-Chat-v1.0' # More suitable for my GPU\n",
    "train_dataset_path = \"../data/training_dataset.jsonl\"\n",
    "output_model = '../models/TinyLlama-1.1b-Chat-FineTuned-v1.0'\n",
    "\n",
    "# Loading environment variables\n",
    "load_dotenv()\n",
    "HF_TOKEN = os.getenv('HUGGINGFACE_TOKEN')"
   ]
  },
  {
   "cell_type": "code",
   "execution_count": 2,
   "id": "ce86849e",
   "metadata": {},
   "outputs": [
    {
     "name": "stdout",
     "output_type": "stream",
     "text": [
      "Note: you may need to restart the kernel to use updated packages.\n"
     ]
    },
    {
     "name": "stderr",
     "output_type": "stream",
     "text": [
      "ERROR: Invalid requirement: '\"numpy<2      peft      accelerate'\n",
      "\n",
      "[notice] A new release of pip is available: 24.0 -> 25.1.1\n",
      "[notice] To update, run: python.exe -m pip install --upgrade pip\n"
     ]
    },
    {
     "name": "stdout",
     "output_type": "stream",
     "text": [
      "Found existing installation: bitsandbytes 0.46.0\n",
      "Uninstalling bitsandbytes-0.46.0:\n",
      "  Successfully uninstalled bitsandbytes-0.46.0\n",
      "Note: you may need to restart the kernel to use updated packages.\n"
     ]
    },
    {
     "name": "stderr",
     "output_type": "stream",
     "text": [
      "WARNING: Failed to remove contents in a temporary directory 'C:\\Users\\Paulo\\AppData\\Local\\Temp\\pip-uninstall-s3psebzg'.\n",
      "You can safely remove it manually.\n"
     ]
    },
    {
     "name": "stdout",
     "output_type": "stream",
     "text": [
      "Collecting bitsandbytes==0.46.0\n",
      "  Using cached bitsandbytes-0.46.0-py3-none-win_amd64.whl.metadata (10 kB)\n",
      "Requirement already satisfied: torch<3,>=2.2 in c:\\users\\paulo\\documents\\repos\\fine-tuning-llms\\venv\\lib\\site-packages (from bitsandbytes==0.46.0) (2.2.1+cu121)\n",
      "Requirement already satisfied: numpy>=1.17 in c:\\users\\paulo\\documents\\repos\\fine-tuning-llms\\venv\\lib\\site-packages (from bitsandbytes==0.46.0) (1.26.4)\n",
      "Requirement already satisfied: filelock in c:\\users\\paulo\\documents\\repos\\fine-tuning-llms\\venv\\lib\\site-packages (from torch<3,>=2.2->bitsandbytes==0.46.0) (3.18.0)\n",
      "Requirement already satisfied: typing-extensions>=4.8.0 in c:\\users\\paulo\\documents\\repos\\fine-tuning-llms\\venv\\lib\\site-packages (from torch<3,>=2.2->bitsandbytes==0.46.0) (4.14.0)\n",
      "Requirement already satisfied: sympy in c:\\users\\paulo\\documents\\repos\\fine-tuning-llms\\venv\\lib\\site-packages (from torch<3,>=2.2->bitsandbytes==0.46.0) (1.14.0)\n",
      "Requirement already satisfied: networkx in c:\\users\\paulo\\documents\\repos\\fine-tuning-llms\\venv\\lib\\site-packages (from torch<3,>=2.2->bitsandbytes==0.46.0) (3.5)\n",
      "Requirement already satisfied: jinja2 in c:\\users\\paulo\\documents\\repos\\fine-tuning-llms\\venv\\lib\\site-packages (from torch<3,>=2.2->bitsandbytes==0.46.0) (3.1.6)\n",
      "Requirement already satisfied: fsspec in c:\\users\\paulo\\documents\\repos\\fine-tuning-llms\\venv\\lib\\site-packages (from torch<3,>=2.2->bitsandbytes==0.46.0) (2025.3.0)\n",
      "Requirement already satisfied: MarkupSafe>=2.0 in c:\\users\\paulo\\documents\\repos\\fine-tuning-llms\\venv\\lib\\site-packages (from jinja2->torch<3,>=2.2->bitsandbytes==0.46.0) (3.0.2)\n",
      "Requirement already satisfied: mpmath<1.4,>=1.1.0 in c:\\users\\paulo\\documents\\repos\\fine-tuning-llms\\venv\\lib\\site-packages (from sympy->torch<3,>=2.2->bitsandbytes==0.46.0) (1.3.0)\n",
      "Using cached bitsandbytes-0.46.0-py3-none-win_amd64.whl (66.5 MB)\n",
      "Installing collected packages: bitsandbytes\n",
      "Successfully installed bitsandbytes-0.46.0\n",
      "Note: you may need to restart the kernel to use updated packages.\n"
     ]
    },
    {
     "name": "stderr",
     "output_type": "stream",
     "text": [
      "\n",
      "[notice] A new release of pip is available: 24.0 -> 25.1.1\n",
      "[notice] To update, run: python.exe -m pip install --upgrade pip\n"
     ]
    }
   ],
   "source": [
    "%pip install --upgrade \\\"numpy<2\" \\\n",
    "    peft>=0.4.0 \\\n",
    "    accelerate>=0.21.0\n",
    "# then reinstall bnb so it recompiles against the right numpy\n",
    "%pip uninstall -y bitsandbytes\n",
    "%pip install bitsandbytes==0.46.0\n"
   ]
  },
  {
   "cell_type": "markdown",
   "id": "1625a4f7",
   "metadata": {},
   "source": [
    "Asserting that transformers and peft lib versions are compatible"
   ]
  },
  {
   "cell_type": "code",
   "execution_count": 3,
   "id": "63aedb61",
   "metadata": {},
   "outputs": [
    {
     "name": "stdout",
     "output_type": "stream",
     "text": [
      "transformers version: 4.52.4\n",
      "bitsandbytes version: 0.46.0\n",
      "trl version: 0.18.2\n",
      "accelerate version: 1.8.1\n",
      "PyTorch version: 2.2.1+cu121. - Must be a version with GPU (CUDA) support, not CPU only.\n"
     ]
    }
   ],
   "source": [
    "print('transformers version:', transformers.__version__)\n",
    "#print('peft version:', peft.__version__)\n",
    "print('bitsandbytes version:', version('bitsandbytes'))\n",
    "print('trl version:', version('trl'))\n",
    "print('accelerate version:', accelerate.__version__)\n",
    "print(f\"PyTorch version: {torch.__version__}. - Must be a version with GPU (CUDA) support, not CPU only.\")\n",
    "\n",
    "# Asserting versions\n",
    "# assert transformers.__version__ == '4.40.2', 'transformers version mismatch'\n",
    "#assert peft.__version__ == '0.10.0', 'peft version mismatch'"
   ]
  },
  {
   "cell_type": "code",
   "execution_count": 4,
   "id": "a842ecb3",
   "metadata": {},
   "outputs": [
    {
     "name": "stdout",
     "output_type": "stream",
     "text": [
      "=== NVIDIA Driver Check ===\n",
      "Sun Jun 22 23:36:44 2025       \n",
      "+-----------------------------------------------------------------------------------------+\n",
      "| NVIDIA-SMI 576.57                 Driver Version: 576.57         CUDA Version: 12.9     |\n",
      "|-----------------------------------------+------------------------+----------------------+\n",
      "| GPU  Name                  Driver-Model | Bus-Id          Disp.A | Volatile Uncorr. ECC |\n",
      "| Fan  Temp   Perf          Pwr:Usage/Cap |           Memory-Usage | GPU-Util  Compute M. |\n",
      "|                                         |                        |               MIG M. |\n",
      "|=========================================+========================+======================|\n",
      "|   0  NVIDIA GeForce GTX 1050      WDDM  |   00000000:01:00.0 Off |                  N/A |\n",
      "| N/A   44C    P8            N/A  / 5001W |       0MiB /   4096MiB |      0%      Default |\n",
      "|                                         |                        |                  N/A |\n",
      "+-----------------------------------------+------------------------+----------------------+\n",
      "                                                                                         \n",
      "+-----------------------------------------------------------------------------------------+\n",
      "| Processes:                                                                              |\n",
      "|  GPU   GI   CI              PID   Type   Process name                        GPU Memory |\n",
      "|        ID   ID                                                               Usage      |\n",
      "|=========================================================================================|\n",
      "|  No running processes found                                                             |\n",
      "+-----------------------------------------------------------------------------------------+\n",
      "\n"
     ]
    }
   ],
   "source": [
    "def check_nvidia_smi():\n",
    "    try:\n",
    "        result = subprocess.run(['nvidia-smi'], capture_output=True, text=True)\n",
    "        return result.stdout\n",
    "    except FileNotFoundError:\n",
    "        return \"nvidia-smi not found. NVIDIA drivers may not be installed.\"\n",
    "\n",
    "print(\"=== NVIDIA Driver Check ===\")\n",
    "print(check_nvidia_smi())"
   ]
  },
  {
   "cell_type": "code",
   "execution_count": 5,
   "id": "5aac66ed",
   "metadata": {},
   "outputs": [
    {
     "name": "stdout",
     "output_type": "stream",
     "text": [
      "GPU Memory: 4.3 GB\n",
      "Max memory for model: {0: '3.7 GB'}\n"
     ]
    }
   ],
   "source": [
    "# Get GPU memory info\n",
    "gpu_memory = torch.cuda.get_device_properties(0).total_memory\n",
    "max_memory = {0: f\"{gpu_memory * 0.85 / 1e9:.1f} GB\"}  # Use 85% of GPU memory\n",
    "\n",
    "print(f\"GPU Memory: {gpu_memory / 1e9:.1f} GB\")\n",
    "print(f\"Max memory for model: {max_memory}\")"
   ]
  },
  {
   "cell_type": "markdown",
   "id": "a96bc41f",
   "metadata": {},
   "source": [
    "CUDA Availability Check"
   ]
  },
  {
   "cell_type": "code",
   "execution_count": 6,
   "id": "5e540a97",
   "metadata": {},
   "outputs": [
    {
     "name": "stdout",
     "output_type": "stream",
     "text": [
      "CUDA Available: True\n",
      "Current CUDA device: 0\n",
      "CUDA version: 12.1\n",
      "CUDA device: NVIDIA GeForce GTX 1050\n",
      "CUDA capability: (6, 1)\n"
     ]
    }
   ],
   "source": [
    "# Check CUDA availability\n",
    "use_gpu = torch.cuda.is_available()\n",
    "print('CUDA Available:', use_gpu)\n",
    "print('Current CUDA device:', torch.cuda.current_device() if use_gpu else 'No CUDA device')\n",
    "print('CUDA version:', torch.version.cuda if use_gpu else 'Not Available')\n",
    "\n",
    "if use_gpu:\n",
    "    print(f'CUDA device: {torch.cuda.get_device_name(0)}')\n",
    "    print(f'CUDA capability:', torch.cuda.get_device_capability(0))"
   ]
  },
  {
   "cell_type": "markdown",
   "id": "e393afd6",
   "metadata": {},
   "source": [
    "#### Releasing GPU Memory"
   ]
  },
  {
   "cell_type": "code",
   "execution_count": 7,
   "id": "e2788c58",
   "metadata": {},
   "outputs": [
    {
     "name": "stdout",
     "output_type": "stream",
     "text": [
      "Bytes collected:\n"
     ]
    },
    {
     "data": {
      "text/plain": [
       "60"
      ]
     },
     "execution_count": 7,
     "metadata": {},
     "output_type": "execute_result"
    }
   ],
   "source": [
    "torch.cuda.empty_cache()\n",
    "print('Bytes collected:')\n",
    "gc.collect()"
   ]
  },
  {
   "cell_type": "markdown",
   "id": "97bf04b8",
   "metadata": {},
   "source": [
    "---"
   ]
  },
  {
   "cell_type": "markdown",
   "id": "39ea8b22",
   "metadata": {},
   "source": [
    "### 1- Loading Train Data"
   ]
  },
  {
   "cell_type": "code",
   "execution_count": 8,
   "id": "5c467ee3",
   "metadata": {},
   "outputs": [],
   "source": [
    "# Training data for Fine-Tuning\n",
    "dataset = load_dataset(\"json\", data_files=train_dataset_path, split=\"train\")\n",
    "\n",
    "\n",
    "# Formatting the dataset for training\n",
    "def formatting(example):\n",
    "    text = f\"### Prompt:\\n{example['prompt']}\\n\\n### Response:\\n{example['response']}\"\n",
    "    return {\"text\": text}\n",
    "\n",
    "dataset = dataset.map(formatting)"
   ]
  },
  {
   "cell_type": "markdown",
   "id": "0c1410dd",
   "metadata": {},
   "source": [
    "### 1.1- Loading Tokenizer and transforming Train Data"
   ]
  },
  {
   "cell_type": "code",
   "execution_count": 9,
   "id": "ea393c36",
   "metadata": {},
   "outputs": [],
   "source": [
    "# Tokenizer\n",
    "tokenizer = AutoTokenizer.from_pretrained(model_name, trust_remote_code=True)\n",
    "tokenizer.pad_token = tokenizer.eos_token\n",
    "\n",
    "# Tokenizing formatted dataset\n",
    "def preprocess(examples):\n",
    "    # Tokenize the texts with padding and truncation\n",
    "    tokenized = tokenizer(\n",
    "        examples[\"text\"],\n",
    "        truncation=True,\n",
    "        padding=True,\n",
    "        max_length=512,\n",
    "        return_tensors=None  # Return lists instead of tensors\n",
    "    )\n",
    "    \n",
    "    # Set up the labels for training\n",
    "    tokenized[\"labels\"] = tokenized[\"input_ids\"].copy()\n",
    "    \n",
    "    return tokenized\n",
    "\n",
    "# Apply preprocessing to the entire dataset at once\n",
    "tokenized_dataset = dataset.map(\n",
    "    preprocess,\n",
    "    batched=True,\n",
    "    remove_columns=dataset.column_names\n",
    ")"
   ]
  },
  {
   "cell_type": "markdown",
   "id": "0a5eae44",
   "metadata": {},
   "source": [
    "---"
   ]
  },
  {
   "cell_type": "markdown",
   "id": "4bcf2a43",
   "metadata": {},
   "source": [
    "### 2- Loading and Configuring Model"
   ]
  },
  {
   "cell_type": "code",
   "execution_count": 10,
   "id": "15824c53",
   "metadata": {},
   "outputs": [],
   "source": [
    "# Configure 8-bit quantization for efficient GPU usage\n",
    "bnb_config = BitsAndBytesConfig(\n",
    "    load_in_8bit=True,  # Enable 8-bit quantization\n",
    "    llm_int8_threshold=6.0,  # Threshold for outlier detection\n",
    "    llm_int8_has_fp16_weight=False,  # Disabling fp16 for weights to avoid dtype mismatch\n",
    "    llm_int8_enable_fp32_cpu_offload=True  # Offload to CPU\n",
    ")\n",
    "\n",
    "# Load Model with quantization\n",
    "model = AutoModelForCausalLM.from_pretrained(\n",
    "    model_name,\n",
    "    quantization_config=bnb_config,\n",
    "    trust_remote_code=True,\n",
    "    use_cache=False,  # Important for training\n",
    "    device_map=\"auto\",  # Let accelerate handle device mapping\n",
    "    torch_dtype=torch.float32  # Use float32 as base dtype\n",
    ")"
   ]
  },
  {
   "cell_type": "markdown",
   "id": "9f5090fe",
   "metadata": {},
   "source": [
    "---"
   ]
  },
  {
   "cell_type": "markdown",
   "id": "00a5c443",
   "metadata": {},
   "source": [
    "### 3- Preparing for PEFT - Applying LoRA/QLoRA"
   ]
  },
  {
   "cell_type": "code",
   "execution_count": 11,
   "id": "3e33878d",
   "metadata": {},
   "outputs": [],
   "source": [
    "# Prepare for PEFT\n",
    "model.gradient_checkpointing_enable()\n",
    "model = prepare_model_for_kbit_training(model)\n",
    "\n",
    "# LoRA Config\n",
    "lora_config = LoraConfig(\n",
    "    r=8, # Rank of the LoRA matrix, the number of trainable parameters (the higher the more trainable parameters, but also more memory and computation)\n",
    "    lora_alpha=32, # Scaling factor for the LoRA matrix\n",
    "    target_modules=[\"q_proj\", \"v_proj\"], # Query and Value projection layers for TinyLlama\n",
    "    lora_dropout=0.05, # Dropout rate for the LoRA matrix\n",
    "    bias=\"none\", # Bias for the LoRA matrix (not used for TinyLlama)\n",
    "    task_type=\"CAUSAL_LM\" # Task type for the LoRA matrix\n",
    ")\n",
    "\n",
    "model = get_peft_model(model, lora_config)"
   ]
  },
  {
   "cell_type": "markdown",
   "id": "59db8d3f",
   "metadata": {},
   "source": [
    "### Trainable Parameters Overview"
   ]
  },
  {
   "cell_type": "code",
   "execution_count": 12,
   "id": "3b2d32f5",
   "metadata": {},
   "outputs": [
    {
     "name": "stdout",
     "output_type": "stream",
     "text": [
      "trainable params: 1,126,400 || all params: 1,101,174,784 || trainable%: 0.1023\n",
      "None\n"
     ]
    }
   ],
   "source": [
    "print(model.print_trainable_parameters())"
   ]
  },
  {
   "cell_type": "markdown",
   "id": "2f4661d1",
   "metadata": {},
   "source": [
    "---"
   ]
  },
  {
   "cell_type": "markdown",
   "id": "77a61c77",
   "metadata": {},
   "source": [
    "### 4- Data Collator"
   ]
  },
  {
   "cell_type": "markdown",
   "id": "910ab558",
   "metadata": {},
   "source": [
    "A data collator is a crucial component in the training pipeline that prepares batches of data for the model. \n",
    "In this case, we're using DataCollatorForLanguageModeling which:\n",
    "1. Pads sequences to the same length within each batch\n",
    "2. Creates attention masks to handle the padding\n",
    "3. Prepares the labels for language modeling\n",
    "\n",
    "The mlm=False parameter indicates we're doing causal language modeling (predicting next token) \n",
    "rather than masked language modeling (predicting masked tokens).\n",
    "\n",
    "This collator is necessary because:\n",
    "- It ensures all sequences in a batch have the same length through padding\n",
    "- It properly formats the input for the model's forward pass\n",
    "- It handles the creation of labels for the language modeling task\n",
    "- It optimizes memory usage by padding only within each batch rather than to a fixed length -->\n"
   ]
  },
  {
   "cell_type": "code",
   "execution_count": 13,
   "id": "424711c6",
   "metadata": {},
   "outputs": [],
   "source": [
    "data_collator = DataCollatorForLanguageModeling(tokenizer, \n",
    "                                                mlm=False) # As we are working with Causal Language Modeling (predicting next token), not MLM (Masked Language Modeling)"
   ]
  },
  {
   "cell_type": "markdown",
   "id": "d9d0d6df",
   "metadata": {},
   "source": [
    "---"
   ]
  },
  {
   "cell_type": "markdown",
   "id": "916420f4",
   "metadata": {},
   "source": [
    "### 5- Configure Training Arguments"
   ]
  },
  {
   "cell_type": "markdown",
   "id": "20af8e32",
   "metadata": {},
   "source": [
    "I'll  avoid Trainer, its returning error when trying to train():\n",
    "\n",
    "\"The safest path on your setup is to avoid Trainer and instead train using a custom training loop with Accelerate, which gives you more control and avoids hidden offloading. Sometimes Hugging Face's Trainer tries to offload to CPU automatically if it detects low VRAM.\""
   ]
  },
  {
   "cell_type": "code",
   "execution_count": 14,
   "id": "61adce46",
   "metadata": {},
   "outputs": [
    {
     "name": "stderr",
     "output_type": "stream",
     "text": [
      "No label_names provided for model class `PeftModelForCausalLM`. Since `PeftModel` hides base models input arguments, if label_names is not given, label_names can't be set automatically within `Trainer`. Note that empty label_names list will be used instead.\n"
     ]
    }
   ],
   "source": [
    "# Training Arguments - Optimized for GTX 1050 4GB VRAM with TinyLlama 1.1B + LoRA\n",
    "training_args = TrainingArguments(\n",
    "    output_dir=output_model,\n",
    "    per_device_train_batch_size=1,  # Keep small batch size for 4GB VRAM\n",
    "    gradient_accumulation_steps=16,  # Maintain effective batch size\n",
    "    optim=\"paged_adamw_32bit\",  # Use 32-bit optimizer for better stability\n",
    "    learning_rate=2e-4,\n",
    "    lr_scheduler_type=\"cosine\",\n",
    "    save_strategy=\"epoch\",\n",
    "    logging_steps=5,\n",
    "    num_train_epochs=3,\n",
    "    max_steps=250,\n",
    "    bf16=False,  # Disable bf16 since we're using fp16\n",
    "    fp16=True,  # Use fp16 for training\n",
    "    torch_compile=False,  # Disable torch compilation\n",
    "    gradient_checkpointing=True,\n",
    "    warmup_steps=50,\n",
    "    max_grad_norm=0.3,\n",
    "    ddp_find_unused_parameters=False,\n",
    "    dataloader_num_workers=0,\n",
    "    remove_unused_columns=False,\n",
    "    group_by_length=True,  # Group similar length sequences for efficiency\n",
    "    report_to=\"none\"  # Disable reporting to save memory\n",
    ")\n",
    "\n",
    "# Trainer\n",
    "trainer = SFTTrainer(\n",
    "    model=model,\n",
    "    train_dataset=tokenized_dataset,\n",
    "    peft_config=lora_config,\n",
    "    args=training_args,\n",
    "    data_collator=data_collator\n",
    ")"
   ]
  },
  {
   "cell_type": "markdown",
   "id": "6e716bc3",
   "metadata": {},
   "source": [
    "---"
   ]
  },
  {
   "cell_type": "markdown",
   "id": "bb4955b5",
   "metadata": {},
   "source": [
    "### 6 - Training"
   ]
  },
  {
   "cell_type": "code",
   "execution_count": null,
   "id": "9e805ed7",
   "metadata": {},
   "outputs": [
    {
     "name": "stderr",
     "output_type": "stream",
     "text": [
      "c:\\Users\\Paulo\\Documents\\repos\\fine-tuning-llms\\venv\\Lib\\site-packages\\bitsandbytes\\autograd\\_functions.py:185: UserWarning: MatMul8bitLt: inputs will be cast from torch.float32 to float16 during quantization\n",
      "  warnings.warn(f\"MatMul8bitLt: inputs will be cast from {A.dtype} to float16 during quantization\")\n",
      "c:\\Users\\Paulo\\Documents\\repos\\fine-tuning-llms\\venv\\Lib\\site-packages\\transformers\\integrations\\sdpa_attention.py:54: UserWarning: 1Torch was not compiled with flash attention. (Triggered internally at ..\\aten\\src\\ATen\\native\\transformers\\cuda\\sdp_utils.cpp:263.)\n",
      "  attn_output = torch.nn.functional.scaled_dot_product_attention(\n"
     ]
    },
    {
     "data": {
      "text/html": [
       "\n",
       "    <div>\n",
       "      \n",
       "      <progress value='77' max='250' style='width:300px; height:20px; vertical-align: middle;'></progress>\n",
       "      [ 77/250 12:38 < 29:10, 0.10 it/s, Epoch 76/250]\n",
       "    </div>\n",
       "    <table border=\"1\" class=\"dataframe\">\n",
       "  <thead>\n",
       " <tr style=\"text-align: left;\">\n",
       "      <th>Step</th>\n",
       "      <th>Training Loss</th>\n",
       "    </tr>\n",
       "  </thead>\n",
       "  <tbody>\n",
       "    <tr>\n",
       "      <td>5</td>\n",
       "      <td>3.270800</td>\n",
       "    </tr>\n",
       "    <tr>\n",
       "      <td>10</td>\n",
       "      <td>3.196200</td>\n",
       "    </tr>\n",
       "    <tr>\n",
       "      <td>15</td>\n",
       "      <td>2.930800</td>\n",
       "    </tr>\n",
       "    <tr>\n",
       "      <td>20</td>\n",
       "      <td>2.626300</td>\n",
       "    </tr>\n",
       "    <tr>\n",
       "      <td>25</td>\n",
       "      <td>2.274900</td>\n",
       "    </tr>\n",
       "    <tr>\n",
       "      <td>30</td>\n",
       "      <td>1.846400</td>\n",
       "    </tr>\n",
       "    <tr>\n",
       "      <td>35</td>\n",
       "      <td>1.401800</td>\n",
       "    </tr>\n",
       "    <tr>\n",
       "      <td>40</td>\n",
       "      <td>0.960100</td>\n",
       "    </tr>\n",
       "    <tr>\n",
       "      <td>45</td>\n",
       "      <td>0.524800</td>\n",
       "    </tr>\n",
       "    <tr>\n",
       "      <td>50</td>\n",
       "      <td>0.192400</td>\n",
       "    </tr>\n",
       "    <tr>\n",
       "      <td>55</td>\n",
       "      <td>0.065200</td>\n",
       "    </tr>\n",
       "    <tr>\n",
       "      <td>60</td>\n",
       "      <td>0.047600</td>\n",
       "    </tr>\n",
       "    <tr>\n",
       "      <td>65</td>\n",
       "      <td>0.047600</td>\n",
       "    </tr>\n",
       "    <tr>\n",
       "      <td>70</td>\n",
       "      <td>0.053100</td>\n",
       "    </tr>\n",
       "    <tr>\n",
       "      <td>75</td>\n",
       "      <td>0.077700</td>\n",
       "    </tr>\n",
       "  </tbody>\n",
       "</table><p>"
      ],
      "text/plain": [
       "<IPython.core.display.HTML object>"
      ]
     },
     "metadata": {},
     "output_type": "display_data"
    },
    {
     "name": "stderr",
     "output_type": "stream",
     "text": [
      "c:\\Users\\Paulo\\Documents\\repos\\fine-tuning-llms\\venv\\Lib\\site-packages\\bitsandbytes\\autograd\\_functions.py:185: UserWarning: MatMul8bitLt: inputs will be cast from torch.float32 to float16 during quantization\n",
      "  warnings.warn(f\"MatMul8bitLt: inputs will be cast from {A.dtype} to float16 during quantization\")\n",
      "c:\\Users\\Paulo\\Documents\\repos\\fine-tuning-llms\\venv\\Lib\\site-packages\\bitsandbytes\\autograd\\_functions.py:185: UserWarning: MatMul8bitLt: inputs will be cast from torch.float32 to float16 during quantization\n",
      "  warnings.warn(f\"MatMul8bitLt: inputs will be cast from {A.dtype} to float16 during quantization\")\n",
      "c:\\Users\\Paulo\\Documents\\repos\\fine-tuning-llms\\venv\\Lib\\site-packages\\bitsandbytes\\autograd\\_functions.py:185: UserWarning: MatMul8bitLt: inputs will be cast from torch.float32 to float16 during quantization\n",
      "  warnings.warn(f\"MatMul8bitLt: inputs will be cast from {A.dtype} to float16 during quantization\")\n",
      "c:\\Users\\Paulo\\Documents\\repos\\fine-tuning-llms\\venv\\Lib\\site-packages\\bitsandbytes\\autograd\\_functions.py:185: UserWarning: MatMul8bitLt: inputs will be cast from torch.float32 to float16 during quantization\n",
      "  warnings.warn(f\"MatMul8bitLt: inputs will be cast from {A.dtype} to float16 during quantization\")\n",
      "c:\\Users\\Paulo\\Documents\\repos\\fine-tuning-llms\\venv\\Lib\\site-packages\\bitsandbytes\\autograd\\_functions.py:185: UserWarning: MatMul8bitLt: inputs will be cast from torch.float32 to float16 during quantization\n",
      "  warnings.warn(f\"MatMul8bitLt: inputs will be cast from {A.dtype} to float16 during quantization\")\n",
      "c:\\Users\\Paulo\\Documents\\repos\\fine-tuning-llms\\venv\\Lib\\site-packages\\bitsandbytes\\autograd\\_functions.py:185: UserWarning: MatMul8bitLt: inputs will be cast from torch.float32 to float16 during quantization\n",
      "  warnings.warn(f\"MatMul8bitLt: inputs will be cast from {A.dtype} to float16 during quantization\")\n",
      "c:\\Users\\Paulo\\Documents\\repos\\fine-tuning-llms\\venv\\Lib\\site-packages\\bitsandbytes\\autograd\\_functions.py:185: UserWarning: MatMul8bitLt: inputs will be cast from torch.float32 to float16 during quantization\n",
      "  warnings.warn(f\"MatMul8bitLt: inputs will be cast from {A.dtype} to float16 during quantization\")\n",
      "c:\\Users\\Paulo\\Documents\\repos\\fine-tuning-llms\\venv\\Lib\\site-packages\\bitsandbytes\\autograd\\_functions.py:185: UserWarning: MatMul8bitLt: inputs will be cast from torch.float32 to float16 during quantization\n",
      "  warnings.warn(f\"MatMul8bitLt: inputs will be cast from {A.dtype} to float16 during quantization\")\n",
      "c:\\Users\\Paulo\\Documents\\repos\\fine-tuning-llms\\venv\\Lib\\site-packages\\bitsandbytes\\autograd\\_functions.py:185: UserWarning: MatMul8bitLt: inputs will be cast from torch.float32 to float16 during quantization\n",
      "  warnings.warn(f\"MatMul8bitLt: inputs will be cast from {A.dtype} to float16 during quantization\")\n",
      "c:\\Users\\Paulo\\Documents\\repos\\fine-tuning-llms\\venv\\Lib\\site-packages\\bitsandbytes\\autograd\\_functions.py:185: UserWarning: MatMul8bitLt: inputs will be cast from torch.float32 to float16 during quantization\n",
      "  warnings.warn(f\"MatMul8bitLt: inputs will be cast from {A.dtype} to float16 during quantization\")\n",
      "c:\\Users\\Paulo\\Documents\\repos\\fine-tuning-llms\\venv\\Lib\\site-packages\\bitsandbytes\\autograd\\_functions.py:185: UserWarning: MatMul8bitLt: inputs will be cast from torch.float32 to float16 during quantization\n",
      "  warnings.warn(f\"MatMul8bitLt: inputs will be cast from {A.dtype} to float16 during quantization\")\n",
      "c:\\Users\\Paulo\\Documents\\repos\\fine-tuning-llms\\venv\\Lib\\site-packages\\bitsandbytes\\autograd\\_functions.py:185: UserWarning: MatMul8bitLt: inputs will be cast from torch.float32 to float16 during quantization\n",
      "  warnings.warn(f\"MatMul8bitLt: inputs will be cast from {A.dtype} to float16 during quantization\")\n",
      "c:\\Users\\Paulo\\Documents\\repos\\fine-tuning-llms\\venv\\Lib\\site-packages\\bitsandbytes\\autograd\\_functions.py:185: UserWarning: MatMul8bitLt: inputs will be cast from torch.float32 to float16 during quantization\n",
      "  warnings.warn(f\"MatMul8bitLt: inputs will be cast from {A.dtype} to float16 during quantization\")\n",
      "c:\\Users\\Paulo\\Documents\\repos\\fine-tuning-llms\\venv\\Lib\\site-packages\\bitsandbytes\\autograd\\_functions.py:185: UserWarning: MatMul8bitLt: inputs will be cast from torch.float32 to float16 during quantization\n",
      "  warnings.warn(f\"MatMul8bitLt: inputs will be cast from {A.dtype} to float16 during quantization\")\n",
      "c:\\Users\\Paulo\\Documents\\repos\\fine-tuning-llms\\venv\\Lib\\site-packages\\bitsandbytes\\autograd\\_functions.py:185: UserWarning: MatMul8bitLt: inputs will be cast from torch.float32 to float16 during quantization\n",
      "  warnings.warn(f\"MatMul8bitLt: inputs will be cast from {A.dtype} to float16 during quantization\")\n",
      "c:\\Users\\Paulo\\Documents\\repos\\fine-tuning-llms\\venv\\Lib\\site-packages\\bitsandbytes\\autograd\\_functions.py:185: UserWarning: MatMul8bitLt: inputs will be cast from torch.float32 to float16 during quantization\n",
      "  warnings.warn(f\"MatMul8bitLt: inputs will be cast from {A.dtype} to float16 during quantization\")\n",
      "c:\\Users\\Paulo\\Documents\\repos\\fine-tuning-llms\\venv\\Lib\\site-packages\\bitsandbytes\\autograd\\_functions.py:185: UserWarning: MatMul8bitLt: inputs will be cast from torch.float32 to float16 during quantization\n",
      "  warnings.warn(f\"MatMul8bitLt: inputs will be cast from {A.dtype} to float16 during quantization\")\n",
      "c:\\Users\\Paulo\\Documents\\repos\\fine-tuning-llms\\venv\\Lib\\site-packages\\bitsandbytes\\autograd\\_functions.py:185: UserWarning: MatMul8bitLt: inputs will be cast from torch.float32 to float16 during quantization\n",
      "  warnings.warn(f\"MatMul8bitLt: inputs will be cast from {A.dtype} to float16 during quantization\")\n",
      "c:\\Users\\Paulo\\Documents\\repos\\fine-tuning-llms\\venv\\Lib\\site-packages\\bitsandbytes\\autograd\\_functions.py:185: UserWarning: MatMul8bitLt: inputs will be cast from torch.float32 to float16 during quantization\n",
      "  warnings.warn(f\"MatMul8bitLt: inputs will be cast from {A.dtype} to float16 during quantization\")\n",
      "c:\\Users\\Paulo\\Documents\\repos\\fine-tuning-llms\\venv\\Lib\\site-packages\\bitsandbytes\\autograd\\_functions.py:185: UserWarning: MatMul8bitLt: inputs will be cast from torch.float32 to float16 during quantization\n",
      "  warnings.warn(f\"MatMul8bitLt: inputs will be cast from {A.dtype} to float16 during quantization\")\n",
      "c:\\Users\\Paulo\\Documents\\repos\\fine-tuning-llms\\venv\\Lib\\site-packages\\bitsandbytes\\autograd\\_functions.py:185: UserWarning: MatMul8bitLt: inputs will be cast from torch.float32 to float16 during quantization\n",
      "  warnings.warn(f\"MatMul8bitLt: inputs will be cast from {A.dtype} to float16 during quantization\")\n",
      "c:\\Users\\Paulo\\Documents\\repos\\fine-tuning-llms\\venv\\Lib\\site-packages\\bitsandbytes\\autograd\\_functions.py:185: UserWarning: MatMul8bitLt: inputs will be cast from torch.float32 to float16 during quantization\n",
      "  warnings.warn(f\"MatMul8bitLt: inputs will be cast from {A.dtype} to float16 during quantization\")\n",
      "c:\\Users\\Paulo\\Documents\\repos\\fine-tuning-llms\\venv\\Lib\\site-packages\\bitsandbytes\\autograd\\_functions.py:185: UserWarning: MatMul8bitLt: inputs will be cast from torch.float32 to float16 during quantization\n",
      "  warnings.warn(f\"MatMul8bitLt: inputs will be cast from {A.dtype} to float16 during quantization\")\n",
      "c:\\Users\\Paulo\\Documents\\repos\\fine-tuning-llms\\venv\\Lib\\site-packages\\bitsandbytes\\autograd\\_functions.py:185: UserWarning: MatMul8bitLt: inputs will be cast from torch.float32 to float16 during quantization\n",
      "  warnings.warn(f\"MatMul8bitLt: inputs will be cast from {A.dtype} to float16 during quantization\")\n",
      "c:\\Users\\Paulo\\Documents\\repos\\fine-tuning-llms\\venv\\Lib\\site-packages\\bitsandbytes\\autograd\\_functions.py:185: UserWarning: MatMul8bitLt: inputs will be cast from torch.float32 to float16 during quantization\n",
      "  warnings.warn(f\"MatMul8bitLt: inputs will be cast from {A.dtype} to float16 during quantization\")\n",
      "c:\\Users\\Paulo\\Documents\\repos\\fine-tuning-llms\\venv\\Lib\\site-packages\\bitsandbytes\\autograd\\_functions.py:185: UserWarning: MatMul8bitLt: inputs will be cast from torch.float32 to float16 during quantization\n",
      "  warnings.warn(f\"MatMul8bitLt: inputs will be cast from {A.dtype} to float16 during quantization\")\n",
      "c:\\Users\\Paulo\\Documents\\repos\\fine-tuning-llms\\venv\\Lib\\site-packages\\bitsandbytes\\autograd\\_functions.py:185: UserWarning: MatMul8bitLt: inputs will be cast from torch.float32 to float16 during quantization\n",
      "  warnings.warn(f\"MatMul8bitLt: inputs will be cast from {A.dtype} to float16 during quantization\")\n",
      "c:\\Users\\Paulo\\Documents\\repos\\fine-tuning-llms\\venv\\Lib\\site-packages\\bitsandbytes\\autograd\\_functions.py:185: UserWarning: MatMul8bitLt: inputs will be cast from torch.float32 to float16 during quantization\n",
      "  warnings.warn(f\"MatMul8bitLt: inputs will be cast from {A.dtype} to float16 during quantization\")\n",
      "c:\\Users\\Paulo\\Documents\\repos\\fine-tuning-llms\\venv\\Lib\\site-packages\\bitsandbytes\\autograd\\_functions.py:185: UserWarning: MatMul8bitLt: inputs will be cast from torch.float32 to float16 during quantization\n",
      "  warnings.warn(f\"MatMul8bitLt: inputs will be cast from {A.dtype} to float16 during quantization\")\n",
      "c:\\Users\\Paulo\\Documents\\repos\\fine-tuning-llms\\venv\\Lib\\site-packages\\bitsandbytes\\autograd\\_functions.py:185: UserWarning: MatMul8bitLt: inputs will be cast from torch.float32 to float16 during quantization\n",
      "  warnings.warn(f\"MatMul8bitLt: inputs will be cast from {A.dtype} to float16 during quantization\")\n",
      "c:\\Users\\Paulo\\Documents\\repos\\fine-tuning-llms\\venv\\Lib\\site-packages\\bitsandbytes\\autograd\\_functions.py:185: UserWarning: MatMul8bitLt: inputs will be cast from torch.float32 to float16 during quantization\n",
      "  warnings.warn(f\"MatMul8bitLt: inputs will be cast from {A.dtype} to float16 during quantization\")\n",
      "c:\\Users\\Paulo\\Documents\\repos\\fine-tuning-llms\\venv\\Lib\\site-packages\\bitsandbytes\\autograd\\_functions.py:185: UserWarning: MatMul8bitLt: inputs will be cast from torch.float32 to float16 during quantization\n",
      "  warnings.warn(f\"MatMul8bitLt: inputs will be cast from {A.dtype} to float16 during quantization\")\n",
      "c:\\Users\\Paulo\\Documents\\repos\\fine-tuning-llms\\venv\\Lib\\site-packages\\bitsandbytes\\autograd\\_functions.py:185: UserWarning: MatMul8bitLt: inputs will be cast from torch.float32 to float16 during quantization\n",
      "  warnings.warn(f\"MatMul8bitLt: inputs will be cast from {A.dtype} to float16 during quantization\")\n",
      "c:\\Users\\Paulo\\Documents\\repos\\fine-tuning-llms\\venv\\Lib\\site-packages\\bitsandbytes\\autograd\\_functions.py:185: UserWarning: MatMul8bitLt: inputs will be cast from torch.float32 to float16 during quantization\n",
      "  warnings.warn(f\"MatMul8bitLt: inputs will be cast from {A.dtype} to float16 during quantization\")\n",
      "c:\\Users\\Paulo\\Documents\\repos\\fine-tuning-llms\\venv\\Lib\\site-packages\\bitsandbytes\\autograd\\_functions.py:185: UserWarning: MatMul8bitLt: inputs will be cast from torch.float32 to float16 during quantization\n",
      "  warnings.warn(f\"MatMul8bitLt: inputs will be cast from {A.dtype} to float16 during quantization\")\n",
      "c:\\Users\\Paulo\\Documents\\repos\\fine-tuning-llms\\venv\\Lib\\site-packages\\bitsandbytes\\autograd\\_functions.py:185: UserWarning: MatMul8bitLt: inputs will be cast from torch.float32 to float16 during quantization\n",
      "  warnings.warn(f\"MatMul8bitLt: inputs will be cast from {A.dtype} to float16 during quantization\")\n",
      "c:\\Users\\Paulo\\Documents\\repos\\fine-tuning-llms\\venv\\Lib\\site-packages\\bitsandbytes\\autograd\\_functions.py:185: UserWarning: MatMul8bitLt: inputs will be cast from torch.float32 to float16 during quantization\n",
      "  warnings.warn(f\"MatMul8bitLt: inputs will be cast from {A.dtype} to float16 during quantization\")\n",
      "c:\\Users\\Paulo\\Documents\\repos\\fine-tuning-llms\\venv\\Lib\\site-packages\\bitsandbytes\\autograd\\_functions.py:185: UserWarning: MatMul8bitLt: inputs will be cast from torch.float32 to float16 during quantization\n",
      "  warnings.warn(f\"MatMul8bitLt: inputs will be cast from {A.dtype} to float16 during quantization\")\n",
      "c:\\Users\\Paulo\\Documents\\repos\\fine-tuning-llms\\venv\\Lib\\site-packages\\bitsandbytes\\autograd\\_functions.py:185: UserWarning: MatMul8bitLt: inputs will be cast from torch.float32 to float16 during quantization\n",
      "  warnings.warn(f\"MatMul8bitLt: inputs will be cast from {A.dtype} to float16 during quantization\")\n",
      "c:\\Users\\Paulo\\Documents\\repos\\fine-tuning-llms\\venv\\Lib\\site-packages\\bitsandbytes\\autograd\\_functions.py:185: UserWarning: MatMul8bitLt: inputs will be cast from torch.float32 to float16 during quantization\n",
      "  warnings.warn(f\"MatMul8bitLt: inputs will be cast from {A.dtype} to float16 during quantization\")\n",
      "c:\\Users\\Paulo\\Documents\\repos\\fine-tuning-llms\\venv\\Lib\\site-packages\\bitsandbytes\\autograd\\_functions.py:185: UserWarning: MatMul8bitLt: inputs will be cast from torch.float32 to float16 during quantization\n",
      "  warnings.warn(f\"MatMul8bitLt: inputs will be cast from {A.dtype} to float16 during quantization\")\n",
      "c:\\Users\\Paulo\\Documents\\repos\\fine-tuning-llms\\venv\\Lib\\site-packages\\bitsandbytes\\autograd\\_functions.py:185: UserWarning: MatMul8bitLt: inputs will be cast from torch.float32 to float16 during quantization\n",
      "  warnings.warn(f\"MatMul8bitLt: inputs will be cast from {A.dtype} to float16 during quantization\")\n",
      "c:\\Users\\Paulo\\Documents\\repos\\fine-tuning-llms\\venv\\Lib\\site-packages\\bitsandbytes\\autograd\\_functions.py:185: UserWarning: MatMul8bitLt: inputs will be cast from torch.float32 to float16 during quantization\n",
      "  warnings.warn(f\"MatMul8bitLt: inputs will be cast from {A.dtype} to float16 during quantization\")\n",
      "c:\\Users\\Paulo\\Documents\\repos\\fine-tuning-llms\\venv\\Lib\\site-packages\\bitsandbytes\\autograd\\_functions.py:185: UserWarning: MatMul8bitLt: inputs will be cast from torch.float32 to float16 during quantization\n",
      "  warnings.warn(f\"MatMul8bitLt: inputs will be cast from {A.dtype} to float16 during quantization\")\n",
      "c:\\Users\\Paulo\\Documents\\repos\\fine-tuning-llms\\venv\\Lib\\site-packages\\bitsandbytes\\autograd\\_functions.py:185: UserWarning: MatMul8bitLt: inputs will be cast from torch.float32 to float16 during quantization\n",
      "  warnings.warn(f\"MatMul8bitLt: inputs will be cast from {A.dtype} to float16 during quantization\")\n",
      "c:\\Users\\Paulo\\Documents\\repos\\fine-tuning-llms\\venv\\Lib\\site-packages\\bitsandbytes\\autograd\\_functions.py:185: UserWarning: MatMul8bitLt: inputs will be cast from torch.float32 to float16 during quantization\n",
      "  warnings.warn(f\"MatMul8bitLt: inputs will be cast from {A.dtype} to float16 during quantization\")\n",
      "c:\\Users\\Paulo\\Documents\\repos\\fine-tuning-llms\\venv\\Lib\\site-packages\\bitsandbytes\\autograd\\_functions.py:185: UserWarning: MatMul8bitLt: inputs will be cast from torch.float32 to float16 during quantization\n",
      "  warnings.warn(f\"MatMul8bitLt: inputs will be cast from {A.dtype} to float16 during quantization\")\n",
      "c:\\Users\\Paulo\\Documents\\repos\\fine-tuning-llms\\venv\\Lib\\site-packages\\bitsandbytes\\autograd\\_functions.py:185: UserWarning: MatMul8bitLt: inputs will be cast from torch.float32 to float16 during quantization\n",
      "  warnings.warn(f\"MatMul8bitLt: inputs will be cast from {A.dtype} to float16 during quantization\")\n",
      "c:\\Users\\Paulo\\Documents\\repos\\fine-tuning-llms\\venv\\Lib\\site-packages\\bitsandbytes\\autograd\\_functions.py:185: UserWarning: MatMul8bitLt: inputs will be cast from torch.float32 to float16 during quantization\n",
      "  warnings.warn(f\"MatMul8bitLt: inputs will be cast from {A.dtype} to float16 during quantization\")\n",
      "c:\\Users\\Paulo\\Documents\\repos\\fine-tuning-llms\\venv\\Lib\\site-packages\\bitsandbytes\\autograd\\_functions.py:185: UserWarning: MatMul8bitLt: inputs will be cast from torch.float32 to float16 during quantization\n",
      "  warnings.warn(f\"MatMul8bitLt: inputs will be cast from {A.dtype} to float16 during quantization\")\n",
      "c:\\Users\\Paulo\\Documents\\repos\\fine-tuning-llms\\venv\\Lib\\site-packages\\bitsandbytes\\autograd\\_functions.py:185: UserWarning: MatMul8bitLt: inputs will be cast from torch.float32 to float16 during quantization\n",
      "  warnings.warn(f\"MatMul8bitLt: inputs will be cast from {A.dtype} to float16 during quantization\")\n",
      "c:\\Users\\Paulo\\Documents\\repos\\fine-tuning-llms\\venv\\Lib\\site-packages\\bitsandbytes\\autograd\\_functions.py:185: UserWarning: MatMul8bitLt: inputs will be cast from torch.float32 to float16 during quantization\n",
      "  warnings.warn(f\"MatMul8bitLt: inputs will be cast from {A.dtype} to float16 during quantization\")\n",
      "c:\\Users\\Paulo\\Documents\\repos\\fine-tuning-llms\\venv\\Lib\\site-packages\\bitsandbytes\\autograd\\_functions.py:185: UserWarning: MatMul8bitLt: inputs will be cast from torch.float32 to float16 during quantization\n",
      "  warnings.warn(f\"MatMul8bitLt: inputs will be cast from {A.dtype} to float16 during quantization\")\n",
      "c:\\Users\\Paulo\\Documents\\repos\\fine-tuning-llms\\venv\\Lib\\site-packages\\bitsandbytes\\autograd\\_functions.py:185: UserWarning: MatMul8bitLt: inputs will be cast from torch.float32 to float16 during quantization\n",
      "  warnings.warn(f\"MatMul8bitLt: inputs will be cast from {A.dtype} to float16 during quantization\")\n",
      "c:\\Users\\Paulo\\Documents\\repos\\fine-tuning-llms\\venv\\Lib\\site-packages\\bitsandbytes\\autograd\\_functions.py:185: UserWarning: MatMul8bitLt: inputs will be cast from torch.float32 to float16 during quantization\n",
      "  warnings.warn(f\"MatMul8bitLt: inputs will be cast from {A.dtype} to float16 during quantization\")\n",
      "c:\\Users\\Paulo\\Documents\\repos\\fine-tuning-llms\\venv\\Lib\\site-packages\\bitsandbytes\\autograd\\_functions.py:185: UserWarning: MatMul8bitLt: inputs will be cast from torch.float32 to float16 during quantization\n",
      "  warnings.warn(f\"MatMul8bitLt: inputs will be cast from {A.dtype} to float16 during quantization\")\n",
      "c:\\Users\\Paulo\\Documents\\repos\\fine-tuning-llms\\venv\\Lib\\site-packages\\bitsandbytes\\autograd\\_functions.py:185: UserWarning: MatMul8bitLt: inputs will be cast from torch.float32 to float16 during quantization\n",
      "  warnings.warn(f\"MatMul8bitLt: inputs will be cast from {A.dtype} to float16 during quantization\")\n",
      "c:\\Users\\Paulo\\Documents\\repos\\fine-tuning-llms\\venv\\Lib\\site-packages\\bitsandbytes\\autograd\\_functions.py:185: UserWarning: MatMul8bitLt: inputs will be cast from torch.float32 to float16 during quantization\n",
      "  warnings.warn(f\"MatMul8bitLt: inputs will be cast from {A.dtype} to float16 during quantization\")\n",
      "c:\\Users\\Paulo\\Documents\\repos\\fine-tuning-llms\\venv\\Lib\\site-packages\\bitsandbytes\\autograd\\_functions.py:185: UserWarning: MatMul8bitLt: inputs will be cast from torch.float32 to float16 during quantization\n",
      "  warnings.warn(f\"MatMul8bitLt: inputs will be cast from {A.dtype} to float16 during quantization\")\n",
      "c:\\Users\\Paulo\\Documents\\repos\\fine-tuning-llms\\venv\\Lib\\site-packages\\bitsandbytes\\autograd\\_functions.py:185: UserWarning: MatMul8bitLt: inputs will be cast from torch.float32 to float16 during quantization\n",
      "  warnings.warn(f\"MatMul8bitLt: inputs will be cast from {A.dtype} to float16 during quantization\")\n",
      "c:\\Users\\Paulo\\Documents\\repos\\fine-tuning-llms\\venv\\Lib\\site-packages\\bitsandbytes\\autograd\\_functions.py:185: UserWarning: MatMul8bitLt: inputs will be cast from torch.float32 to float16 during quantization\n",
      "  warnings.warn(f\"MatMul8bitLt: inputs will be cast from {A.dtype} to float16 during quantization\")\n",
      "c:\\Users\\Paulo\\Documents\\repos\\fine-tuning-llms\\venv\\Lib\\site-packages\\bitsandbytes\\autograd\\_functions.py:185: UserWarning: MatMul8bitLt: inputs will be cast from torch.float32 to float16 during quantization\n",
      "  warnings.warn(f\"MatMul8bitLt: inputs will be cast from {A.dtype} to float16 during quantization\")\n",
      "c:\\Users\\Paulo\\Documents\\repos\\fine-tuning-llms\\venv\\Lib\\site-packages\\bitsandbytes\\autograd\\_functions.py:185: UserWarning: MatMul8bitLt: inputs will be cast from torch.float32 to float16 during quantization\n",
      "  warnings.warn(f\"MatMul8bitLt: inputs will be cast from {A.dtype} to float16 during quantization\")\n",
      "c:\\Users\\Paulo\\Documents\\repos\\fine-tuning-llms\\venv\\Lib\\site-packages\\bitsandbytes\\autograd\\_functions.py:185: UserWarning: MatMul8bitLt: inputs will be cast from torch.float32 to float16 during quantization\n",
      "  warnings.warn(f\"MatMul8bitLt: inputs will be cast from {A.dtype} to float16 during quantization\")\n",
      "c:\\Users\\Paulo\\Documents\\repos\\fine-tuning-llms\\venv\\Lib\\site-packages\\bitsandbytes\\autograd\\_functions.py:185: UserWarning: MatMul8bitLt: inputs will be cast from torch.float32 to float16 during quantization\n",
      "  warnings.warn(f\"MatMul8bitLt: inputs will be cast from {A.dtype} to float16 during quantization\")\n",
      "c:\\Users\\Paulo\\Documents\\repos\\fine-tuning-llms\\venv\\Lib\\site-packages\\bitsandbytes\\autograd\\_functions.py:185: UserWarning: MatMul8bitLt: inputs will be cast from torch.float32 to float16 during quantization\n",
      "  warnings.warn(f\"MatMul8bitLt: inputs will be cast from {A.dtype} to float16 during quantization\")\n",
      "c:\\Users\\Paulo\\Documents\\repos\\fine-tuning-llms\\venv\\Lib\\site-packages\\bitsandbytes\\autograd\\_functions.py:185: UserWarning: MatMul8bitLt: inputs will be cast from torch.float32 to float16 during quantization\n",
      "  warnings.warn(f\"MatMul8bitLt: inputs will be cast from {A.dtype} to float16 during quantization\")\n",
      "c:\\Users\\Paulo\\Documents\\repos\\fine-tuning-llms\\venv\\Lib\\site-packages\\bitsandbytes\\autograd\\_functions.py:185: UserWarning: MatMul8bitLt: inputs will be cast from torch.float32 to float16 during quantization\n",
      "  warnings.warn(f\"MatMul8bitLt: inputs will be cast from {A.dtype} to float16 during quantization\")\n",
      "c:\\Users\\Paulo\\Documents\\repos\\fine-tuning-llms\\venv\\Lib\\site-packages\\bitsandbytes\\autograd\\_functions.py:185: UserWarning: MatMul8bitLt: inputs will be cast from torch.float32 to float16 during quantization\n",
      "  warnings.warn(f\"MatMul8bitLt: inputs will be cast from {A.dtype} to float16 during quantization\")\n",
      "c:\\Users\\Paulo\\Documents\\repos\\fine-tuning-llms\\venv\\Lib\\site-packages\\bitsandbytes\\autograd\\_functions.py:185: UserWarning: MatMul8bitLt: inputs will be cast from torch.float32 to float16 during quantization\n",
      "  warnings.warn(f\"MatMul8bitLt: inputs will be cast from {A.dtype} to float16 during quantization\")\n",
      "c:\\Users\\Paulo\\Documents\\repos\\fine-tuning-llms\\venv\\Lib\\site-packages\\bitsandbytes\\autograd\\_functions.py:185: UserWarning: MatMul8bitLt: inputs will be cast from torch.float32 to float16 during quantization\n",
      "  warnings.warn(f\"MatMul8bitLt: inputs will be cast from {A.dtype} to float16 during quantization\")\n",
      "c:\\Users\\Paulo\\Documents\\repos\\fine-tuning-llms\\venv\\Lib\\site-packages\\bitsandbytes\\autograd\\_functions.py:185: UserWarning: MatMul8bitLt: inputs will be cast from torch.float32 to float16 during quantization\n",
      "  warnings.warn(f\"MatMul8bitLt: inputs will be cast from {A.dtype} to float16 during quantization\")\n",
      "c:\\Users\\Paulo\\Documents\\repos\\fine-tuning-llms\\venv\\Lib\\site-packages\\bitsandbytes\\autograd\\_functions.py:185: UserWarning: MatMul8bitLt: inputs will be cast from torch.float32 to float16 during quantization\n",
      "  warnings.warn(f\"MatMul8bitLt: inputs will be cast from {A.dtype} to float16 during quantization\")\n",
      "c:\\Users\\Paulo\\Documents\\repos\\fine-tuning-llms\\venv\\Lib\\site-packages\\bitsandbytes\\autograd\\_functions.py:185: UserWarning: MatMul8bitLt: inputs will be cast from torch.float32 to float16 during quantization\n",
      "  warnings.warn(f\"MatMul8bitLt: inputs will be cast from {A.dtype} to float16 during quantization\")\n",
      "c:\\Users\\Paulo\\Documents\\repos\\fine-tuning-llms\\venv\\Lib\\site-packages\\bitsandbytes\\autograd\\_functions.py:185: UserWarning: MatMul8bitLt: inputs will be cast from torch.float32 to float16 during quantization\n",
      "  warnings.warn(f\"MatMul8bitLt: inputs will be cast from {A.dtype} to float16 during quantization\")\n",
      "c:\\Users\\Paulo\\Documents\\repos\\fine-tuning-llms\\venv\\Lib\\site-packages\\bitsandbytes\\autograd\\_functions.py:185: UserWarning: MatMul8bitLt: inputs will be cast from torch.float32 to float16 during quantization\n",
      "  warnings.warn(f\"MatMul8bitLt: inputs will be cast from {A.dtype} to float16 during quantization\")\n"
     ]
    }
   ],
   "source": [
    "trainer.train()"
   ]
  },
  {
   "cell_type": "markdown",
   "id": "b62ffc25",
   "metadata": {},
   "source": [
    "---"
   ]
  },
  {
   "cell_type": "markdown",
   "id": "3bc1dde8",
   "metadata": {},
   "source": [
    "### 7- Merging with Base Model"
   ]
  },
  {
   "cell_type": "markdown",
   "id": "c834022e",
   "metadata": {},
   "source": [
    "### 8- Saving Fine-Tuned LLM"
   ]
  }
 ],
 "metadata": {
  "kernelspec": {
   "display_name": "venv",
   "language": "python",
   "name": "python3"
  },
  "language_info": {
   "codemirror_mode": {
    "name": "ipython",
    "version": 3
   },
   "file_extension": ".py",
   "mimetype": "text/x-python",
   "name": "python",
   "nbconvert_exporter": "python",
   "pygments_lexer": "ipython3",
   "version": "3.12.3"
  }
 },
 "nbformat": 4,
 "nbformat_minor": 5
}
